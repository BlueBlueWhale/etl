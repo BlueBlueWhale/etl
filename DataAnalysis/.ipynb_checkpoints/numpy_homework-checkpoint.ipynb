{
 "cells": [
  {
   "cell_type": "code",
   "execution_count": null,
   "id": "6f63547c",
   "metadata": {},
   "outputs": [],
   "source": [
    "import numpy as np"
   ]
  },
  {
   "cell_type": "markdown",
   "id": "3b780085",
   "metadata": {},
   "source": [
    "# 第二章：Numpy库"
   ]
  },
  {
   "cell_type": "markdown",
   "id": "b52a6f2a",
   "metadata": {},
   "source": [
    "## 第5节：Numpy索引和切片作业"
   ]
  },
  {
   "cell_type": "code",
   "execution_count": null,
   "id": "3ce84d00",
   "metadata": {},
   "outputs": [],
   "source": [
    "# 将np.arange(10)数组中的奇数全部都替换成-1。\n",
    "a1 = np.arange(10)\n",
    "a2 = np.where(a1%2!=0,-1, a1)\n",
    "print(a1, '\\n', a2)"
   ]
  },
  {
   "cell_type": "code",
   "execution_count": null,
   "id": "564d18c6",
   "metadata": {},
   "outputs": [],
   "source": [
    "# 有一个4行4列的数组（比如：np.random.randint(0,10,size=(4,4))），请将其中对角线的数取出来形成一个一维数组。提示（使用np.eye）。\n",
    "a1 = np.random.randint(0,10,size=(4,4))\n",
    "a2 = np.eye(4)\n",
    "a3 = a1*a2\n",
    "a4 = a3[a3!=0]\n",
    "print(a3)\n",
    "print(a4)"
   ]
  },
  {
   "cell_type": "code",
   "execution_count": null,
   "id": "2c14fe7c",
   "metadata": {},
   "outputs": [],
   "source": [
    "# 有一个4行4列的数组，请取出其中(0,0),(1,2),(3,2)的点。\n",
    "a1 = np.arange(16).reshape(4,4)\n",
    "print(a1[0,0],a1[1,2],a1[3,2])\n",
    "print(a1[ [0,1,3],[0,2,2] ]) # https://www.mth548.org/Tools/Numpy/boolean_fancy_indexing.html#Fancy-indexing"
   ]
  },
  {
   "cell_type": "code",
   "execution_count": null,
   "id": "cccbbe50",
   "metadata": {},
   "outputs": [],
   "source": [
    "# 有一个4行4列的数组，请取出其中2-3行（包括第3行）的所有数据。\n",
    "a1 = np.arange(16).reshape(4,4)\n",
    "print(a1[[1,2]])"
   ]
  },
  {
   "cell_type": "code",
   "execution_count": null,
   "id": "b7b8d50b",
   "metadata": {},
   "outputs": [],
   "source": [
    "# 有一个8行9列的数组，请将其中1-5行（包含第5行）的第8列大于30的数全部都取出来。\n",
    "a1 = np.arange(72).reshape(8,9)\n",
    "a2 = a1[0:5,7] # NumPy slicing: https://www.w3school.com.cn/python/numpy_array_slicing.asp\n",
    "a3 = a2[a2>30]\n",
    "print(a1, '\\n\\n', a2, '\\n\\n', a3)"
   ]
  },
  {
   "cell_type": "markdown",
   "id": "60ae96b6",
   "metadata": {},
   "source": [
    "## 第9节：数组操作和文件操作作业"
   ]
  },
  {
   "cell_type": "code",
   "execution_count": null,
   "id": "2ecc1072",
   "metadata": {},
   "outputs": [],
   "source": [
    "# 数组a = np.random.rand(3,2,3)能和b = np.random.rand(3,2,2)进行运算吗？能和c = np.random.rand(3,1,1)进行运算吗？请说明结果的原因。\n",
    "a = np.random.rand(3,2,3)\n",
    "b = np.random.rand(3,2,2)\n",
    "c = np.random.rand(3,1,1)\n",
    "d = b*c"
   ]
  },
  {
   "cell_type": "code",
   "execution_count": null,
   "id": "49c81ff5",
   "metadata": {},
   "outputs": [],
   "source": [
    "# 将数组a = np.random.rand(3,5)和b = np.random.rand(6,4)叠加在一起，其中a在b的上面，并且在b的第2列（下标从0开始）新增一列，用0来填充。\n",
    "a = np.random.rand(3,5)\n",
    "b = np.random.rand(6,4)\n",
    "c = np.insert(b,2,0,axis=1)\n",
    "# c = np.array_split(a,2,axis=1)\n",
    "d = np.concatenate((a, c), axis=0)\n",
    "print(a, '\\n\\n', b, '\\n\\n', c, '\\n\\n', d)"
   ]
  },
  {
   "cell_type": "code",
   "execution_count": null,
   "id": "5d410a6d",
   "metadata": {},
   "outputs": [],
   "source": [
    "# 将数组a = np.random.rand(4,5)扁平化成一维数组，可以使用flatten和ravel，对两者的返回值进行操作，哪个会影响到数组a？对会影响到a数组的那个函数，请说明详细的原因。\n",
    "a = np.random.rand(4,5)\n",
    "b = a.flatten()\n",
    "c = a.ravel()\n",
    "print(a, '\\n\\n', b, '\\n\\n', c, '\\n\\n', a)\n",
    "# It looks like neither of the two methods affects arrey a."
   ]
  },
  {
   "cell_type": "code",
   "execution_count": null,
   "id": "46e60f7a",
   "metadata": {},
   "outputs": [],
   "source": [
    "# 使用numpy自带的csv方法读取出stock.csv文件中preClosePrice、openPrice、highestPrice、lowestPrice的数据（提示：使用skiprows和usecols参数）。"
   ]
  },
  {
   "cell_type": "markdown",
   "id": "29860185",
   "metadata": {},
   "source": [
    "## 第14节：numpy练习题.md"
   ]
  },
  {
   "cell_type": "code",
   "execution_count": null,
   "id": "500820e7",
   "metadata": {},
   "outputs": [],
   "source": [
    "# 一、查看Numpy的版本号\n",
    "print(np.__version__)"
   ]
  },
  {
   "cell_type": "code",
   "execution_count": null,
   "id": "8f923dbf",
   "metadata": {},
   "outputs": [],
   "source": [
    "# 二、如何创建一个所有值都是False的布尔类型的数组\n",
    "a = np.full((3,3), False)\n",
    "print(a)"
   ]
  },
  {
   "cell_type": "code",
   "execution_count": null,
   "id": "e498401c",
   "metadata": {},
   "outputs": [],
   "source": [
    "# 三、将一个有10个数的数组的形状进行转换\n",
    "a = np.arange(10)\n",
    "b = a.reshape(2,5)\n",
    "print(a, '\\n\\n', b)"
   ]
  },
  {
   "cell_type": "code",
   "execution_count": null,
   "id": "ad044ba4",
   "metadata": {},
   "outputs": [],
   "source": [
    "# 四、将数组中所有偶数都替换成0（改变原来数组和不改变原来数组两种方式实现）\n",
    "# a = np.random.randint(0,10,size=(3,3))\n",
    "a = np.arange(12).reshape(3,4)\n",
    "b = a.copy()\n",
    "c = np.where(a%2==0, 0, a)\n",
    "b[b%2==0] = 0\n",
    "print(a, '\\n\\n', c, '\\n\\n', b)"
   ]
  },
  {
   "cell_type": "code",
   "execution_count": null,
   "id": "0f904ea6",
   "metadata": {},
   "outputs": [],
   "source": [
    "# 五、创建一个一维且有10个数的数组，元素是从0-1之间，但是不包含0和1\n",
    "a = np.linspace(0,1,12)\n",
    "a= a[1:-1]\n",
    "print(a)"
   ]
  },
  {
   "cell_type": "code",
   "execution_count": null,
   "id": "ad15545a",
   "metadata": {},
   "outputs": [],
   "source": [
    "# 六、求以下数组大于等于5并且小于等于10的数组\n",
    "a = np.arange(15)\n",
    "print(a[(a>=5) & (a<=10)])\n",
    "print(np.where((a>=5) & (a<=10)))"
   ]
  },
  {
   "cell_type": "code",
   "execution_count": null,
   "id": "b85c0656",
   "metadata": {},
   "outputs": [],
   "source": [
    "# 七、将一个二维数组的行和列分别进行逆向\n",
    "a = np.arange(20).reshape(4,5)\n",
    "b = a[::-1]\n",
    "c = a[:,::-1]\n",
    "print(a, '\\n\\n', b, '\\n\\n', c)"
   ]
  },
  {
   "cell_type": "code",
   "execution_count": null,
   "id": "5a760f3f",
   "metadata": {},
   "outputs": [],
   "source": [
    "# 八、如何将科学计数法转换为浮点类型打印\n",
    "np.set_printoptions(precision=None, suppress=False)\n",
    "rand_arr = np.random.random([3,3])/1e3\n",
    "print(rand_arr)\n",
    "\n",
    "np.set_printoptions(suppress=True,precision=6)\n",
    "print(rand_arr)"
   ]
  },
  {
   "cell_type": "code",
   "execution_count": null,
   "id": "d4e86b56",
   "metadata": {},
   "outputs": [],
   "source": [
    "# 九、获取一个数组中唯一的元素 十、获取一个数组中唯一的元素个数的排行\n",
    "a = np.random.randint(0,10,(20,20))\n",
    "print(a, '\\n\\n', np.unique(a), '\\n\\n', np.unique(a,return_counts=True))"
   ]
  },
  {
   "cell_type": "code",
   "execution_count": null,
   "id": "11a0dcf1",
   "metadata": {},
   "outputs": [],
   "source": [
    "# 十一、如何找到数组中每行的最大值 十二、如何按照行求最小值与最大值相除的结果\n",
    "np.random.seed(100)\n",
    "a = np.random.randint(1,10, [5,3])\n",
    "print(a)\n",
    "print(\"=\"*30)\n",
    "print(np.amax(a,axis=1))\n",
    "print(\"=\"*30)\n",
    "\n",
    "np.random.seed(100)\n",
    "a = np.random.randint(1,10, [5,3])\n",
    "np.apply_along_axis(lambda x: np.min(x)/np.max(x),arr=a,axis=1)\n"
   ]
  },
  {
   "cell_type": "code",
   "execution_count": null,
   "id": "35649c6c",
   "metadata": {},
   "outputs": [],
   "source": [
    "# 十三、判断两个数组是否完全相等\n",
    "a = np.array([0,1,2])\n",
    "b = np.arange(3)\n",
    "(a == b).all()"
   ]
  },
  {
   "cell_type": "code",
   "execution_count": null,
   "id": "0cf27ff8",
   "metadata": {},
   "outputs": [],
   "source": [
    "# 十四、设置一个数组不能修改值\n",
    "a = np.zeros((2,2))\n",
    "a.flags.writable = False\n",
    "a[0] = 1"
   ]
  },
  {
   "cell_type": "code",
   "execution_count": null,
   "id": "20df9774",
   "metadata": {},
   "outputs": [],
   "source": [
    "# 十五、找到数组中离某个元素的最近的值\n",
    "np.random.seed(100)\n",
    "Z = np.random.uniform(0,1,10)\n",
    "z = 0.5\n",
    "m = Z[np.abs(Z - z).argmin()]\n",
    "print(Z, '\\n\\n', z, '\\n\\n', m)"
   ]
  }
 ],
 "metadata": {
  "kernelspec": {
   "display_name": "Python 3",
   "language": "python",
   "name": "python3"
  },
  "language_info": {
   "codemirror_mode": {
    "name": "ipython",
    "version": 3
   },
   "file_extension": ".py",
   "mimetype": "text/x-python",
   "name": "python",
   "nbconvert_exporter": "python",
   "pygments_lexer": "ipython3",
   "version": "3.8.8"
  }
 },
 "nbformat": 4,
 "nbformat_minor": 5
}
